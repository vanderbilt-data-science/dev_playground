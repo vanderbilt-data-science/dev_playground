{
 "cells": [
  {
   "cell_type": "markdown",
   "metadata": {},
   "source": [
    "# dev_nb\n",
    "\n",
    "> The purpose of this notebook is to provide a scaffold upon which we will investigate the behavior of resolving merge conflicts in Jupyter notebooks combined with branching."
   ]
  },
  {
   "cell_type": "code",
   "execution_count": null,
   "metadata": {},
   "outputs": [],
   "source": [
    "#add code for module creation\n",
    "#default_exp core"
   ]
  },
  {
   "cell_type": "code",
   "execution_count": null,
   "metadata": {},
   "outputs": [],
   "source": [
    "#add code for suppressing all tests\n",
    "#all_no_test"
   ]
  },
  {
   "cell_type": "markdown",
   "metadata": {},
   "source": [
    "***\n",
    "## Modify existing functionality\n",
    "\n",
    "Here, there exists function to multiply by two. In this section:\n",
    "\n",
    "**Person 1**: Should modify the function and code below to have the behavior of `mult3`.  \n",
    "**Person 2**: Should modify the function and code below to have the behavior of `mult4`.\n",
    "\n",
    "Mke sure the tests and demo are updated accordingly."
   ]
  },
  {
   "cell_type": "code",
   "execution_count": null,
   "metadata": {},
   "outputs": [],
   "source": [
    "#export\n",
    "# This function multiplies values by two\n",
    "def mult2(val):\n",
    "    '''Returns double of the supplied input parameter val'''\n",
    "    return 2 * val"
   ]
  },
  {
   "cell_type": "code",
   "execution_count": null,
   "metadata": {},
   "outputs": [],
   "source": [
    "# Test the function\n",
    "assert mult2(2) == 4"
   ]
  },
  {
   "cell_type": "code",
   "execution_count": null,
   "metadata": {},
   "outputs": [
    {
     "data": {
      "text/plain": [
       "8"
      ]
     },
     "execution_count": null,
     "metadata": {},
     "output_type": "execute_result"
    }
   ],
   "source": [
    "# Demo the function\n",
    "mult2(4)"
   ]
  },
  {
   "cell_type": "markdown",
   "metadata": {},
   "source": [
    "***\n",
    "## Prepare notebooks for versioning\n",
    "At the command line (e.g., the terminal in Jupyter), make sure to run the following commands, one after the other:\n",
    "```\n",
    "nbdev_install_git_hooks\n",
    "nbdev_clean_nbs\n",
    "nbdev_build_lib\n",
    "```\n",
    "***"
   ]
  },
  {
   "cell_type": "markdown",
   "metadata": {},
   "source": [
    "## Commit and push notebooks to your branch\n",
    "Now, we'll actual version our cleaned notebook and new modules. Follow the standard git procedure at the command line, i.e.:\n",
    "```\n",
    "git status\n",
    "```\n",
    "Note all of the changed files. Commit all of them, name by name, e.g.\n",
    "```\n",
    "git add dev_playground.ipynb demo_playground/_nbdev.py demo_playground/__init__.py demo_playground/core.py\n",
    "```\n",
    "and any other files you've changed _and want to version_.\n",
    "\n",
    "Now, commit as usual...\n",
    "```\n",
    "git commit -m \"updated dev_playground notebook to new mult functionality\"\n",
    "```\n",
    "\n",
    "And push your branch. For example, if you're Person 1 and your branch is called `mult3_person1`, you'd use the following:\n",
    "```\n",
    "git push -u origin mult3_person1\n",
    "```\n",
    "\n",
    "Now, sidle yourself on over to GitHub to make your pull request!\n",
    "***"
   ]
  },
  {
   "cell_type": "code",
   "execution_count": null,
   "metadata": {},
   "outputs": [],
   "source": []
  }
 ],
 "metadata": {
  "kernelspec": {
   "display_name": "Python 3 (ipykernel)",
   "language": "python",
   "name": "python3"
  }
 },
 "nbformat": 4,
 "nbformat_minor": 4
}
